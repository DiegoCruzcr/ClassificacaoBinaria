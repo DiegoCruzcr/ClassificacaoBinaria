{
 "cells": [
  {
   "cell_type": "code",
   "execution_count": 9,
   "id": "e0fd6e61",
   "metadata": {},
   "outputs": [],
   "source": [
    "#importando bibliotecas para análise e treinamento do modelo\n",
    "from sklearn.datasets import load_breast_cancer \n",
    "from sklearn.datasets import load_diabetes \n",
    "from sklearn import svm \n",
    "from sklearn.tree import DecisionTreeClassifier \n",
    "from sklearn.linear_model import LinearRegression \n",
    "from sklearn.model_selection import train_test_split \n",
    "import matplotlib.pylab as plt\n",
    "%matplotlib inline"
   ]
  },
  {
   "cell_type": "code",
   "execution_count": 2,
   "id": "53b840a7",
   "metadata": {},
   "outputs": [],
   "source": [
    "# response= natural_language_understanding.analyze(\n",
    "#   text='Na FIAP, os alunos são muito dedicados.',\n",
    "#   features=Features(\n",
    "#     relations=RelationsOptions(),\n",
    "#     concepts=ConceptsOptions(),\n",
    "#     emotion=EmotionOptions(),\n",
    "#     entities=EntitiesOptions(),\n",
    "#     semantic_roles=SemanticRolesOptions(),\n",
    "#     sentiment=SentimentOptions(),\n",
    "#     ))\n",
    "# print(json.dumps(response, indent=2))"
   ]
  },
  {
   "cell_type": "code",
   "execution_count": 3,
   "id": "0cd57c0a",
   "metadata": {},
   "outputs": [
    {
     "data": {
      "text/plain": [
       "array(['malignant', 'benign'], dtype='<U9')"
      ]
     },
     "execution_count": 3,
     "metadata": {},
     "output_type": "execute_result"
    }
   ],
   "source": [
    "#Carregando data set cancer e obtendo features e possiveis valores de target(alvo)\n",
    "dt_cancer = load_breast_cancer()\n",
    "dt_cancer.feature_names\n",
    "dt_cancer.target_names"
   ]
  },
  {
   "cell_type": "code",
   "execution_count": 4,
   "id": "9f0b2be4",
   "metadata": {},
   "outputs": [
    {
     "data": {
      "text/plain": [
       "array([151.,  75., 141., 206., 135.,  97., 138.,  63., 110., 310., 101.,\n",
       "        69., 179., 185., 118., 171., 166., 144.,  97., 168.,  68.,  49.,\n",
       "        68., 245., 184., 202., 137.,  85., 131., 283., 129.,  59., 341.,\n",
       "        87.,  65., 102., 265., 276., 252.,  90., 100.,  55.,  61.,  92.,\n",
       "       259.,  53., 190., 142.,  75., 142., 155., 225.,  59., 104., 182.,\n",
       "       128.,  52.,  37., 170., 170.,  61., 144.,  52., 128.,  71., 163.,\n",
       "       150.,  97., 160., 178.,  48., 270., 202., 111.,  85.,  42., 170.,\n",
       "       200., 252., 113., 143.,  51.,  52., 210.,  65., 141.,  55., 134.,\n",
       "        42., 111.,  98., 164.,  48.,  96.,  90., 162., 150., 279.,  92.,\n",
       "        83., 128., 102., 302., 198.,  95.,  53., 134., 144., 232.,  81.,\n",
       "       104.,  59., 246., 297., 258., 229., 275., 281., 179., 200., 200.,\n",
       "       173., 180.,  84., 121., 161.,  99., 109., 115., 268., 274., 158.,\n",
       "       107.,  83., 103., 272.,  85., 280., 336., 281., 118., 317., 235.,\n",
       "        60., 174., 259., 178., 128.,  96., 126., 288.,  88., 292.,  71.,\n",
       "       197., 186.,  25.,  84.,  96., 195.,  53., 217., 172., 131., 214.,\n",
       "        59.,  70., 220., 268., 152.,  47.,  74., 295., 101., 151., 127.,\n",
       "       237., 225.,  81., 151., 107.,  64., 138., 185., 265., 101., 137.,\n",
       "       143., 141.,  79., 292., 178.,  91., 116.,  86., 122.,  72., 129.,\n",
       "       142.,  90., 158.,  39., 196., 222., 277.,  99., 196., 202., 155.,\n",
       "        77., 191.,  70.,  73.,  49.,  65., 263., 248., 296., 214., 185.,\n",
       "        78.,  93., 252., 150.,  77., 208.,  77., 108., 160.,  53., 220.,\n",
       "       154., 259.,  90., 246., 124.,  67.,  72., 257., 262., 275., 177.,\n",
       "        71.,  47., 187., 125.,  78.,  51., 258., 215., 303., 243.,  91.,\n",
       "       150., 310., 153., 346.,  63.,  89.,  50.,  39., 103., 308., 116.,\n",
       "       145.,  74.,  45., 115., 264.,  87., 202., 127., 182., 241.,  66.,\n",
       "        94., 283.,  64., 102., 200., 265.,  94., 230., 181., 156., 233.,\n",
       "        60., 219.,  80.,  68., 332., 248.,  84., 200.,  55.,  85.,  89.,\n",
       "        31., 129.,  83., 275.,  65., 198., 236., 253., 124.,  44., 172.,\n",
       "       114., 142., 109., 180., 144., 163., 147.,  97., 220., 190., 109.,\n",
       "       191., 122., 230., 242., 248., 249., 192., 131., 237.,  78., 135.,\n",
       "       244., 199., 270., 164.,  72.,  96., 306.,  91., 214.,  95., 216.,\n",
       "       263., 178., 113., 200., 139., 139.,  88., 148.,  88., 243.,  71.,\n",
       "        77., 109., 272.,  60.,  54., 221.,  90., 311., 281., 182., 321.,\n",
       "        58., 262., 206., 233., 242., 123., 167.,  63., 197.,  71., 168.,\n",
       "       140., 217., 121., 235., 245.,  40.,  52., 104., 132.,  88.,  69.,\n",
       "       219.,  72., 201., 110.,  51., 277.,  63., 118.,  69., 273., 258.,\n",
       "        43., 198., 242., 232., 175.,  93., 168., 275., 293., 281.,  72.,\n",
       "       140., 189., 181., 209., 136., 261., 113., 131., 174., 257.,  55.,\n",
       "        84.,  42., 146., 212., 233.,  91., 111., 152., 120.,  67., 310.,\n",
       "        94., 183.,  66., 173.,  72.,  49.,  64.,  48., 178., 104., 132.,\n",
       "       220.,  57.])"
      ]
     },
     "execution_count": 4,
     "metadata": {},
     "output_type": "execute_result"
    }
   ],
   "source": [
    "#Carregando data set diabetes e obtendo features e possiveis valores de target(alvo)\n",
    "dt_diabetes = load_diabetes()\n",
    "dt_diabetes.feature_names\n",
    "dt_diabetes.target"
   ]
  },
  {
   "cell_type": "code",
   "execution_count": 5,
   "id": "0e7aaea8",
   "metadata": {},
   "outputs": [],
   "source": [
    "#Separando dados de treino e teste\n",
    "X_train_cancer, X_test_cancer, y_train_cancer, y_test_cancer = train_test_split(dt_cancer.data, dt_cancer.target, stratify=dt_cancer.target, random_state=42)\n",
    "\n"
   ]
  },
  {
   "cell_type": "code",
   "execution_count": 12,
   "id": "e9fb9f3c",
   "metadata": {},
   "outputs": [
    {
     "data": {
      "text/plain": [
       "<matplotlib.legend.Legend at 0x1eefe7fe850>"
      ]
     },
     "execution_count": 12,
     "metadata": {},
     "output_type": "execute_result"
    },
    {
     "data": {
      "image/png": "[encoded data removed]",
      "text/plain": [
       "<Figure size 432x288 with 1 Axes>"
      ]
     },
     "metadata": {
      "needs_background": "light"
     },
     "output_type": "display_data"
    }
   ],
   "source": [
    "# Lista para armazenar valores de acuracia\n",
    "training_accuracy = []\n",
    "test_accuracy = []\n",
    "# Iterando sobre os tipos de kernel para o svm\n",
    "kernels = ['linear', 'rbf', 'sigmoid']\n",
    "for kernel in kernels:\n",
    "  svm_classifier = svm.SVC(kernel=kernel)\n",
    "  \n",
    "  svm_classifier.fit(X_train_cancer, y_train_cancer)\n",
    "  training_accuracy.append(svm_classifier.score(X_train_cancer, y_train_cancer))\n",
    "  test_accuracy.append(svm_classifier.score(X_test_cancer, y_test_cancer))\n",
    "# Visualizando dados pelo matplot\n",
    "plt.plot(kernels,training_accuracy, label='Acuracia no conj. treino')\n",
    "plt.plot(kernels,test_accuracy, label='Acuracia no conj. teste')\n",
    "plt.ylabel('Accuracy')\n",
    "plt.xlabel('Kernels')\n",
    "plt.legend()"
   ]
  },
  {
   "cell_type": "code",
   "execution_count": 13,
   "id": "d830e4f4",
   "metadata": {},
   "outputs": [
    {
     "data": {
      "text/plain": [
       "<matplotlib.legend.Legend at 0x1eeff3424c0>"
      ]
     },
     "execution_count": 13,
     "metadata": {},
     "output_type": "execute_result"
    },
    {
     "data": {
      "image/png": "[encoded data removed]",
      "text/plain": [
       "<Figure size 432x288 with 1 Axes>"
      ]
     },
     "metadata": {
      "needs_background": "light"
     },
     "output_type": "display_data"
    }
   ],
   "source": [
    "### Usando arvores de decisao\n",
    "# Lista ara armazenar accuracy\n",
    "training_accuracy = []\n",
    "test_accuracy = []\n",
    "#definindo profundidade da arvore\n",
    "profundidade_max = range(1,10)\n",
    "\n",
    "for md in profundidade_max:\n",
    "  tree = DecisionTreeClassifier(max_depth=md,random_state=0)\n",
    "  tree.fit(X_train_cancer,y_train_cancer)\n",
    "  training_accuracy.append(tree.score(X_train_cancer, y_train_cancer))\n",
    "  test_accuracy.append(tree.score(X_test_cancer, y_test_cancer))\n",
    "\n",
    "plt.plot(profundidade_max,training_accuracy, label='Acuracia no conj. treino')\n",
    "plt.plot(profundidade_max,test_accuracy, label='Acuracia no conj. teste')\n",
    "plt.ylabel('Acuracia')\n",
    "plt.xlabel('Profundidade Maxima')\n",
    "plt.legend()"
   ]
  },
  {
   "cell_type": "code",
   "execution_count": null,
   "id": "714ab55c",
   "metadata": {},
   "outputs": [],
   "source": []
  }
 ],
 "metadata": {
  "kernelspec": {
   "display_name": "Python 3 (ipykernel)",
   "language": "python",
   "name": "python3"
  },
  "language_info": {
   "codemirror_mode": {
    "name": "ipython",
    "version": 3
   },
   "file_extension": ".py",
   "mimetype": "text/x-python",
   "name": "python",
   "nbconvert_exporter": "python",
   "pygments_lexer": "ipython3",
   "version": "3.9.0"
  }
 },
 "nbformat": 4,
 "nbformat_minor": 5
}
